{
 "cells": [
  {
   "cell_type": "code",
   "execution_count": 2,
   "metadata": {},
   "outputs": [],
   "source": [
    "import requests\n",
    "import re\n",
    "import os\n",
    "import pickle\n",
    "\n",
    "from bs4 import BeautifulSoup\n",
    "from tqdm import tqdm"
   ]
  },
  {
   "cell_type": "code",
   "execution_count": 9,
   "metadata": {},
   "outputs": [],
   "source": [
    "# サーチバー上のtags以降のtag文字列を参考にする.\n",
    "# ex: https://safebooru.org/index.php?page=post&s=list&tags=kizuna_ai\n",
    "search_tag    = \"kizuna_ai\"\n",
    "page_unit     = 40 #1ページに40枚ずつ表示される.\n",
    "all_page_num  = 29 #tagが持つページ数 (自動で取得できそう.)\n",
    "base_url      = \"https://safebooru.org/index.php?page=post&s=list&tags={}&pid={}\""
   ]
  },
  {
   "attachments": {},
   "cell_type": "markdown",
   "metadata": {},
   "source": [
    "### 取得対象の一覧取得"
   ]
  },
  {
   "cell_type": "code",
   "execution_count": 10,
   "metadata": {},
   "outputs": [
    {
     "name": "stderr",
     "output_type": "stream",
     "text": [
      "100%|██████████| 29/29 [00:28<00:00,  1.01it/s]\n"
     ]
    }
   ],
   "source": [
    "all_image_thumb_elem_list = []\n",
    "#各ページを確認しながら、画像のurlの要素を取得する\n",
    "for page_num in tqdm(range(all_page_num)):\n",
    "    pid = page_unit * page_num\n",
    "    page_url_pid = base_url.format(search_tag,pid)\n",
    "    responce = requests.get(page_url_pid)\n",
    "    soup     = BeautifulSoup(responce.text)\n",
    "    page_preview_list  = soup.find_all(class_=\"thumb\")\n",
    "    all_image_thumb_elem_list += page_preview_list"
   ]
  },
  {
   "cell_type": "code",
   "execution_count": 13,
   "metadata": {},
   "outputs": [],
   "source": [
    "#取得対象の画像のurl一覧を取得する.\n",
    "all_image_content_url_list = []\n",
    "for image_thumb_elem in all_image_thumb_elem_list:\n",
    "    assert len( image_thumb_elem.contents ) == 1, \"thumbのcontent要素が1つではありません.\"    \n",
    "    image_ref = image_thumb_elem.contents[0][\"href\"]\n",
    "    image_url = f\"https://safebooru.org/{image_ref}\"\n",
    "    all_image_content_url_list.append(image_url)"
   ]
  },
  {
   "cell_type": "code",
   "execution_count": 14,
   "metadata": {},
   "outputs": [
    {
     "name": "stdout",
     "output_type": "stream",
     "text": [
      "1155件の画像urlを取得しました.\n"
     ]
    }
   ],
   "source": [
    "print(f\"{len(all_image_content_url_list)}件の画像urlを取得しました.\")\n",
    "with open(os.path.join(\"cache\",\"all_image_content_url_list.pkl\"),\"wb\") as f:\n",
    "    pickle.dump(all_image_content_url_list,f)"
   ]
  },
  {
   "attachments": {},
   "cell_type": "markdown",
   "metadata": {},
   "source": [
    "### 画像とメタデータの取得"
   ]
  },
  {
   "cell_type": "code",
   "execution_count": 3,
   "metadata": {},
   "outputs": [],
   "source": [
    "from scraping_from_safebooru import get_content_and_metainfo_from_image_url\n",
    "\n",
    "#urlリストの取得\n",
    "with open(os.path.join(\"cache\",\"all_image_content_url_list.pkl\"),\"rb\") as f:\n",
    "    all_image_content_url_list = pickle.load(f)"
   ]
  },
  {
   "cell_type": "code",
   "execution_count": 4,
   "metadata": {},
   "outputs": [
    {
     "name": "stderr",
     "output_type": "stream",
     "text": [
      "  9%|▉         | 105/1155 [04:23<48:40,  2.78s/it] "
     ]
    }
   ],
   "source": [
    "for image_content_url in tqdm(all_image_content_url_list):\n",
    "    get_content_and_metainfo_from_image_url(image_content_url,save_dir=\"save\",debug_mode=False)"
   ]
  },
  {
   "cell_type": "code",
   "execution_count": null,
   "metadata": {},
   "outputs": [],
   "source": []
  },
  {
   "cell_type": "code",
   "execution_count": 5,
   "metadata": {},
   "outputs": [],
   "source": [
    "#Todo: 各画像の取得処理を並列化させる.\n",
    "#全然並列処理になってくれない. \n",
    "#https://qiita.com/tchnkmr/items/b05f321fa315bbce4f77\n",
    "from concurrent.futures import ThreadPoolExecutor\n",
    "thread_pool_executor = ThreadPoolExecutor(max_workers=10)\n",
    "\n",
    "for image_content_url in all_image_content_url_list:\n",
    "    thread_pool_executor.submit(\n",
    "        get_content_and_metainfo_from_image_url(image_content_url,save_dir=\"save\")\n",
    "    )"
   ]
  }
 ],
 "metadata": {
  "kernelspec": {
   "display_name": ".venv",
   "language": "python",
   "name": "python3"
  },
  "language_info": {
   "codemirror_mode": {
    "name": "ipython",
    "version": 3
   },
   "file_extension": ".py",
   "mimetype": "text/x-python",
   "name": "python",
   "nbconvert_exporter": "python",
   "pygments_lexer": "ipython3",
   "version": "3.9.16"
  },
  "orig_nbformat": 4,
  "vscode": {
   "interpreter": {
    "hash": "8ff5656a767f6a447842429800f88b55d10de3b0c4347f78bc509fed3f384300"
   }
  }
 },
 "nbformat": 4,
 "nbformat_minor": 2
}
