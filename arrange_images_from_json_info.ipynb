{
 "cells": [
  {
   "cell_type": "code",
   "execution_count": 1,
   "metadata": {},
   "outputs": [],
   "source": [
    "import os\n",
    "import json\n",
    "from pathlib import Path\n",
    "import shutil\n",
    "from tqdm import tqdm"
   ]
  },
  {
   "cell_type": "code",
   "execution_count": 2,
   "metadata": {},
   "outputs": [],
   "source": [
    "def get_files_recursively(folder_path):\n",
    "    allowed_patterns = [\n",
    "        '*.[Pp][Nn][Gg]', '*.[Jj][Pp][Gg]', '*.[Jj][Pp][Ee][Gg]',\n",
    "    ]\n",
    "\n",
    "    image_path_list = [\n",
    "        str(path) for pattern in allowed_patterns\n",
    "        for path in Path(folder_path).rglob(pattern)\n",
    "    ]\n",
    "\n",
    "    return image_path_list"
   ]
  },
  {
   "cell_type": "code",
   "execution_count": 4,
   "metadata": {},
   "outputs": [
    {
     "name": "stderr",
     "output_type": "stream",
     "text": [
      "100%|██████████| 1152/1152 [00:00<00:00, 33015.18it/s]\n"
     ]
    }
   ],
   "source": [
    "#ウィンク画像のみをtempフォルダにコピー\n",
    "image_path_list = get_files_recursively(\"save\")\n",
    "\n",
    "for image_path in tqdm(image_path_list):\n",
    "\n",
    "    image_path_no_extension = os.path.splitext( image_path )[0]\n",
    "    json_path = image_path_no_extension + \".json\"\n",
    "\n",
    "    with open(json_path,\"r\") as f:\n",
    "        meta_info = json.load(f)\n",
    "        \n",
    "    #ウィンク画像のみをtempフォルダにコピー\n",
    "    #if \";)\" in meta_info[\"general\"]:\n",
    "    #白黒画像のみをtmepフォルダにコピー\n",
    "    if \"greyscale\" in meta_info[\"general\"]:\n",
    "        dst_image_path = image_path.replace(\"save\",\"temp_specified_tag\")\n",
    "        dst_json_path  = json_path.replace(\"save\",\"temp_specified_tag\")\n",
    "        shutil.copy(image_path,dst_image_path)\n",
    "        shutil.copy(json_path ,dst_json_path)"
   ]
  },
  {
   "cell_type": "code",
   "execution_count": 16,
   "metadata": {},
   "outputs": [
    {
     "name": "stderr",
     "output_type": "stream",
     "text": [
      "100%|██████████| 1152/1152 [00:00<00:00, 2188.58it/s]\n"
     ]
    }
   ],
   "source": [
    "#jsonのタグをtxtに出力.\n",
    "image_path_list = get_files_recursively(\"save\")\n",
    "remove_tags     = [\"greyscale\",\"multiple girls\"]\n",
    "for image_path in tqdm(image_path_list):\n",
    "\n",
    "    image_path_no_extension,image_extension = os.path.splitext( image_path )\n",
    "    json_path = image_path_no_extension + \".json\"\n",
    "    txt_path  = image_path_no_extension + \".txt\"\n",
    "\n",
    "    with open(json_path,\"r\") as f:\n",
    "        meta_info = json.load(f)\n",
    "\n",
    "    if image_extension == \".gif\":\n",
    "        continue\n",
    "\n",
    "    remove_flg = any( [i in meta_info[\"general\"] for i in remove_tags] )\n",
    "\n",
    "    if remove_flg:\n",
    "        continue\n",
    "\n",
    "    tag_list = meta_info[\"character\"] + meta_info[\"general\"]\n",
    "    tag_txt  = \", \".join(tag_list)\n",
    "\n",
    "    #tagをtxtに出力する.\n",
    "    dst_image_path = image_path.replace(\"save\",\"dataset\")\n",
    "    dst_json_path  = json_path.replace(\"save\",\"dataset\")\n",
    "    dst_txt_path   = txt_path.replace(\"save\",\"dataset\")\n",
    "\n",
    "    shutil.copy(image_path,dst_image_path)\n",
    "    #shutil.copy(json_path ,dst_json_path)\n",
    "    with open(dst_txt_path,\"w\") as f:\n",
    "        f.write(tag_txt)"
   ]
  }
 ],
 "metadata": {
  "kernelspec": {
   "display_name": ".venv",
   "language": "python",
   "name": "python3"
  },
  "language_info": {
   "codemirror_mode": {
    "name": "ipython",
    "version": 3
   },
   "file_extension": ".py",
   "mimetype": "text/x-python",
   "name": "python",
   "nbconvert_exporter": "python",
   "pygments_lexer": "ipython3",
   "version": "3.9.16"
  },
  "orig_nbformat": 4,
  "vscode": {
   "interpreter": {
    "hash": "8ff5656a767f6a447842429800f88b55d10de3b0c4347f78bc509fed3f384300"
   }
  }
 },
 "nbformat": 4,
 "nbformat_minor": 2
}
